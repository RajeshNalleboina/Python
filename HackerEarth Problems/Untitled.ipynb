{
 "cells": [
  {
   "cell_type": "markdown",
   "metadata": {},
   "source": [
    "### Seating Arrangament :\n",
    "\n",
    "**Akash and Vishal are quite fond of travelling. They mostly travel by railways. They were travelling in a train one day and they got interested in the seating arrangement of their compartment. The compartment looked something like \n",
    "So they got interested to know the seat number facing them and the seat type facing them. The seats are denoted as follows : \n",
    "Window Seat : WS\n",
    "Middle Seat : MS\n",
    "Aisle Seat : AS\n",
    "You will be given a seat number, find out the seat number facing you and the seat type, i.e. WS, MS or AS.\n",
    "INPUT\n",
    "First line of input will consist of a single integer T denoting number of test-cases. Each test-case consists of a single integer N denoting the seat-number.\n",
    "OUTPUT\n",
    "For each test case, print the facing seat-number and the seat-type, separated by a single space in a new line.\n",
    "CONSTRAINTS\n",
    "1<=T<=105\n",
    "1<=N<=108\n",
    "```SAMPLE INPUT \n",
    "2\n",
    "18\n",
    "40\n",
    "SAMPLE OUTPUT\n",
    "19 WS\n",
    "45 AS```"
   ]
  },
  {
   "cell_type": "code",
   "execution_count": 24,
   "metadata": {},
   "outputs": [
    {
     "name": "stdout",
     "output_type": "stream",
     "text": [
      "6\n",
      "41\n",
      "44 MS\n",
      "42\n",
      "43 WS\n",
      "43\n",
      "42 WS\n",
      "44\n",
      "42 MS\n",
      "45\n",
      "42 AS\n",
      "46\n",
      "42 AS\n"
     ]
    }
   ],
   "source": [
    "n=int(input())\n",
    "for i in range(n):\n",
    "    a=int(input())\n",
    "    if a%12==1:\n",
    "        print(a+11,'WS')\n",
    "    elif a%12==2:\n",
    "        print(a+9, 'MS')\n",
    "    elif a%12==3:\n",
    "        print(a+7, 'AS')\n",
    "    elif a%12==4:\n",
    "        print(a+5, 'AS')\n",
    "    elif a%12==5:\n",
    "        print(a+3, 'MS')\n",
    "    elif a%12==6:\n",
    "        print(a+1, 'WS')\n",
    "    elif a%12==7:\n",
    "        print(a-1, 'WS')\n",
    "    elif a%12==8:\n",
    "        print(a-3, 'MS')\n",
    "    elif a%12==9:\n",
    "        print(a-5, 'AS')\n",
    "    elif a%12==10:\n",
    "        print(a-7, 'AS')\n",
    "    elif a%12==11:\n",
    "        print(a-9, 'MS')\n",
    "    elif a%12==0:\n",
    "        print(a-11, 'WS')"
   ]
  },
  {
   "cell_type": "markdown",
   "metadata": {},
   "source": [
    "## Duration\n"
   ]
  },
  {
   "cell_type": "markdown",
   "metadata": {},
   "source": [
    "#### Rahul is a very busy persion he dont wan't to waste his time . He keeps account of duration of each and every work. Now he don't even get time to calculate duration of works, So your job is to count the durations for each work and give it to rahul.\n",
    "\n",
    " \n",
    "\n",
    "**Input:**\n",
    "\n",
    "**First line will be given by N number of works\n",
    "Next N line will be given SH,SM,EH and EM  each separated by space(SH=starting hr, SM=starting min, EH=ending hr, EM=ending min)\n",
    "Output:**\n",
    "\n",
    "**N lines with duration HH MM(hours and minutes separated by space)**\n",
    "\n",
    "**SAMPLE INPUT           Output**\n",
    "    \n",
    "**2                     0 30**\n",
    "\n",
    "**1 44 2 14             5 41**\n",
    "\n",
    "**2 42 8 23**"
   ]
  },
  {
   "cell_type": "code",
   "execution_count": 9,
   "metadata": {},
   "outputs": [
    {
     "name": "stdout",
     "output_type": "stream",
     "text": [
      "1\n",
      "1 44 2 14\n",
      "0 30\n"
     ]
    }
   ],
   "source": [
    "a=int(input())\n",
    "for i in range(a):\n",
    "    b=list(map(int,input().split()))\n",
    "    sh=int(b[0])*60\n",
    "    sm=int(b[1])\n",
    "    eh=int(b[2])*60\n",
    "    em=int(b[3])\n",
    "    c=(eh+em)-(sh+sm)\n",
    "    hrs=c//60\n",
    "    mins=c%60\n",
    "    print(hrs,mins)"
   ]
  },
  {
   "cell_type": "markdown",
   "metadata": {},
   "source": [
    "#### Ankit is in maze. The command center sent him a string which decodes to come out from the maze. He is initially at (0, 0). String contains L, R, U, D denoting left, right, up and down. In each command he will traverse 1 unit distance in the respective direction.\n",
    "\n",
    "**maze\n",
    "For example if he is at (2, 0) and the command is L he will go to (1, 0).**\n",
    "\n",
    "**Input:**\n",
    "\n",
    "**Input contains a single string.**\n",
    "\n",
    "**Output:**\n",
    "\n",
    "**Print the final point where he came out.**\n",
    "\n",
    "**Constraints:**\n",
    "\n",
    "**1 ≤ |S| ≤ 200**\n",
    "\n",
    "**SAMPLE INPUT**\n",
    "\n",
    "**LLRDDR**\n",
    "\n",
    "**SAMPLE OUTPUT**\n",
    "\n",
    "**0 -2**"
   ]
  },
  {
   "cell_type": "code",
   "execution_count": 14,
   "metadata": {},
   "outputs": [
    {
     "name": "stdout",
     "output_type": "stream",
     "text": [
      "LLRR\n",
      "0 0\n"
     ]
    }
   ],
   "source": [
    "a=input()\n",
    "LR=UD=0\n",
    "for i in a:\n",
    "    if i=='L':\n",
    "        LR-=1\n",
    "    elif i=='R':\n",
    "        LR+=1\n",
    "    elif i == 'U':\n",
    "        UD+=1\n",
    "    elif i=='D':\n",
    "        UD-=1\n",
    "    else:\n",
    "        print(\"\")\n",
    "print(LR,UD)   \n",
    "    \n",
    "    "
   ]
  },
  {
   "cell_type": "markdown",
   "metadata": {},
   "source": [
    "## Bricks Game\n",
    "\n",
    "**Patlu and Motu works in a building construction, they have to put some number of bricks N from one place to another, and started doing their work. They decided , they end up with a fun challenge who will put the last brick.\n",
    "They to follow a simple rule, In the i'th round, Patlu puts i bricks whereas Motu puts ix2 bricks.**\n",
    "\n",
    "**There are only N bricks, you need to help find the challenge result to find who put the last brick.**\n",
    "\n",
    "**Input:**\n",
    "\n",
    "**First line contains an integer N.**\n",
    "\n",
    "**Output:**\n",
    "\n",
    "**Output \"Patlu\" (without the quotes) if Patlu puts the last bricks ,\"Motu\"(without the quotes) otherwise.**\n",
    "\n",
    "**Constraints:**\n",
    "\n",
    "**1 ≤ N ≤ 10000**\n",
    "\n",
    "**SAMPLE INPUT**\n",
    "**13**\n",
    "**SAMPLE OUTPUT** \n",
    "**Motu**\n",
    "**Explanation**\n",
    "**Sample Explanation:**\n",
    "\n",
    "**13 bricks are there :**\n",
    "\n",
    "**Patlu Motu**\n",
    "\n",
    "**1 2**\n",
    "\n",
    "**2 4**\n",
    "\n",
    "**3 1 ( Only 1 remains)**\n",
    "\n",
    "**Hence, Motu puts the last one.**"
   ]
  },
  {
   "cell_type": "code",
   "execution_count": 3,
   "metadata": {},
   "outputs": [
    {
     "name": "stdout",
     "output_type": "stream",
     "text": [
      "13\n",
      "Motu\n"
     ]
    }
   ],
   "source": [
    "def mybricks(b):\n",
    "    c=1\n",
    "    while(b!=0):\n",
    "        if b<=c:\n",
    "            print(\"Patlu\")\n",
    "            break\n",
    "        p=c\n",
    "        b=b-p\n",
    "        if b<=(c*2):\n",
    "            print(\"Motu\")\n",
    "            break\n",
    "        \n",
    "        m=p*2\n",
    "        \n",
    "        b=b-(m)\n",
    "        c=c+1\n",
    "        \n",
    "\n",
    "b=int(input())\n",
    "mybricks(b)"
   ]
  },
  {
   "cell_type": "code",
   "execution_count": null,
   "metadata": {},
   "outputs": [],
   "source": []
  }
 ],
 "metadata": {
  "kernelspec": {
   "display_name": "Python 3",
   "language": "python",
   "name": "python3"
  },
  "language_info": {
   "codemirror_mode": {
    "name": "ipython",
    "version": 3
   },
   "file_extension": ".py",
   "mimetype": "text/x-python",
   "name": "python",
   "nbconvert_exporter": "python",
   "pygments_lexer": "ipython3",
   "version": "3.7.3"
  }
 },
 "nbformat": 4,
 "nbformat_minor": 2
}
