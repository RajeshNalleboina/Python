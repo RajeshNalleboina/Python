{
 "cells": [
  {
   "cell_type": "markdown",
   "metadata": {},
   "source": [
    "## Goki and his breakup"
   ]
  },
  {
   "cell_type": "markdown",
   "metadata": {},
   "source": [
    "**Goki recently had a breakup, so he wants to have some more friends in his life. Goki has N people who he can be friends with, so he decides to choose among them according to their skills set Yi(1<=i<=n). He wants atleast X skills in his friends.**\n",
    "\n",
    "**Help Goki find his friends.**\n",
    "\n",
    "**INPUT**\n",
    "**First line of the input contains an integer N denoting the number of people.**\n",
    "\n",
    "**Next line contains a single integer X - denoting the minimum skill required to be Goki's friend.**\n",
    "\n",
    "**Next n lines contain one integer Y - denoting the skill of ith person.**\n",
    "\n",
    "**OUTPUT**\n",
    "\n",
    "**For each person print if he can be friend with Goki. 'YES' (without quotes) if he can be friends with Goki else 'NO' (without quotes).**"
   ]
  },
  {
   "cell_type": "code",
   "execution_count": 6,
   "metadata": {},
   "outputs": [
    {
     "name": "stdout",
     "output_type": "stream",
     "text": [
      "1\n",
      "1\n",
      "1\n",
      "YES\n"
     ]
    }
   ],
   "source": [
    "a=int(input())\n",
    "x=int(input())\n",
    "for i in range(1,a+1):\n",
    "    b=int(input())\n",
    "    if b>=x:\n",
    "        print('YES')\n",
    "    else:\n",
    "        print('NO')"
   ]
  },
  {
   "cell_type": "markdown",
   "metadata": {},
   "source": [
    "## Ali and Helping innocent people"
   ]
  },
  {
   "cell_type": "markdown",
   "metadata": {},
   "source": [
    "Arpasland has surrounded by attackers. A truck enters the city. The driver claims the load is food and medicine from Iranians. Ali is one of the soldiers in Arpasland. He doubts about the truck, maybe it's from the siege. He knows that a tag is valid if the sum of every two consecutive digits of it is even and its letter is not a vowel. Determine if the tag of the truck is valid or not.\n",
    "\n",
    "We consider the letters \"A\",\"E\",\"I\",\"O\",\"U\",\"Y\" to be vowels for this problem.\n",
    "\n",
    "Input Format\n",
    "\n",
    "The first line contains a string of length 9. The format is \"DDXDDD-DD\", where D stands for a digit (non zero) and X is an uppercase english letter.\n",
    "\n",
    "Output Format\n",
    "\n",
    "Print \"valid\" (without quotes) if the tag is valid, print \"invalid\" otherwise (without quotes)"
   ]
  },
  {
   "cell_type": "code",
   "execution_count": 12,
   "metadata": {},
   "outputs": [
    {
     "ename": "SyntaxError",
     "evalue": "invalid syntax (<ipython-input-12-73a75c9c365c>, line 1)",
     "output_type": "error",
     "traceback": [
      "\u001b[1;36m  File \u001b[1;32m\"<ipython-input-12-73a75c9c365c>\"\u001b[1;36m, line \u001b[1;32m1\u001b[0m\n\u001b[1;33m    s=upper().(input())\u001b[0m\n\u001b[1;37m              ^\u001b[0m\n\u001b[1;31mSyntaxError\u001b[0m\u001b[1;31m:\u001b[0m invalid syntax\n"
     ]
    }
   ],
   "source": [
    "s=upper(input())\n",
    "# if len(s)==9:\n",
    "s\n",
    "    "
   ]
  },
  {
   "cell_type": "code",
   "execution_count": 2,
   "metadata": {},
   "outputs": [
    {
     "name": "stdout",
     "output_type": "stream",
     "text": [
      "6\n",
      "Motu\n"
     ]
    }
   ],
   "source": [
    "def mybricks(b):\n",
    "    c=1\n",
    "    while(b!=0):\n",
    "        if b<=c:\n",
    "            print(\"Patlu\")\n",
    "            break\n",
    "        p=c\n",
    "        b=b-p\n",
    "        if b<=(c*2):\n",
    "            print(\"Motu\")\n",
    "            break\n",
    "        \n",
    "        m=p*2\n",
    "        \n",
    "        b=b-(m)\n",
    "        c=c+1\n",
    "        \n",
    "\n",
    "b=int(input())\n",
    "mybricks(b)"
   ]
  },
  {
   "cell_type": "code",
   "execution_count": null,
   "metadata": {},
   "outputs": [
    {
     "name": "stdout",
     "output_type": "stream",
     "text": [
      "56\n",
      "84 86\n",
      "12777 16915 7793 18335 5386 492 16649 1421 2362 10027 8690 59 17763 13926 540 3426 9172 15736 5211 15368 2567 16429 5782 1530 2862 5123 14067 3135 13929 19802 14022 3058 13069 18167 1393 18456 15011 18042 16229 17373 4421 4919 13784 18537 15198 14324 18315 4370 6413 3526 16091 8980 19956 1873 6862 19170 6996 17281 2305 925 17084 16327 336 6505 10846 1729 1313 5857 16124 13895 19582 545 18814 13367 15434 10364 4043 13750 11087 6808 17276 7178 15788 13584\n",
      "[15788, 13584, 12777, 16915, 7793, 18335, 5386, 492, 16649, 1421, 2362, 10027, 8690, 59, 17763, 13926, 540, 3426, 9172, 15736, 5211, 15368, 2567, 16429, 5782, 1530, 2862, 5123, 14067, 3135, 13929, 19802, 14022, 3058, 13069, 18167, 1393, 18456, 15011, 18042, 16229, 17373, 4421, 4919, 13784, 18537, 15198, 14324, 18315, 4370, 6413, 3526, 16091, 8980, 19956, 1873, 6862, 19170, 6996, 17281, 2305, 925, 17084, 16327, 336, 6505, 10846, 1729, 1313, 5857, 16124, 13895, 19582, 545, 18814, 13367, 15434, 10364, 4043, 13750, 11087, 6808, 17276, 7178]\n"
     ]
    }
   ],
   "source": [
    "a= int(input())\n",
    "l=[]\n",
    "for i in range(a):\n",
    "    b=list(map(int,input().split()))\n",
    "    elements=list(map(int,input().split()))[:b[0]]\n",
    "    l=elements[:]\n",
    "    for j in range(b[1]):\n",
    "        l2=[]\n",
    "        l2.append(l[len(l)-1])\n",
    "        l2.extend(l[0:len(l)-1])\n",
    "        l=l2[:]\n",
    "    print(l)"
   ]
  },
  {
   "cell_type": "markdown",
   "metadata": {},
   "source": [
    "#### 24 July 2019\n",
    "\n",
    "## Char Sum :\n"
   ]
  },
  {
   "cell_type": "markdown",
   "metadata": {},
   "source": [
    "**Consider All lowercase Alphabets of the English language. Here we consider each alphabet from a to z to have a certain weight. The weight of the alphabet a is considered to be 1, b to be 2, c to be 3 and so on until z has a weight of 26. In short, the weight of the alphabet a is 1, and the weight of all other alphabets is the weight of its previous alphabet + 1.**\n",
    "\n",
    "**Now, you have been given a String S consisting of lowercase English characters. You need to find the summation of weight of each character in this String.**\n",
    "\n",
    "**For example, Consider the String aba**\n",
    "\n",
    "**Here, the first character a has a weight of 1, the second character b has 2 and the third character a again has a weight of 1. So the summation here is equal to : 1+2+1=4**\n",
    "\n",
    "**Input Format:**\n",
    "\n",
    "**The first and only line of input contains the String S.**\n",
    "\n",
    "**Output Format:**\n",
    "\n",
    "**Print the required answer on a single line**\n",
    "\n",
    "**Constraints:**\n",
    "\n",
    "**1≤|S|≤100**\n",
    "\n",
    "**SAMPLE INPUT :aba**\n",
    "\n",
    "**SAMPLE OUTPUT : 4**"
   ]
  },
  {
   "cell_type": "code",
   "execution_count": 1,
   "metadata": {},
   "outputs": [
    {
     "name": "stdout",
     "output_type": "stream",
     "text": [
      "ad\n",
      "5\n"
     ]
    }
   ],
   "source": [
    "a=list(map(str,input()))\n",
    "sum=0\n",
    "for i in a:\n",
    "    sum = sum+(ord(i)-96)\n",
    "print(sum)"
   ]
  },
  {
   "cell_type": "markdown",
   "metadata": {},
   "source": [
    "## Life, the Universe, and Everything\n",
    "\n",
    "**Your program is to use the brute-force approach in order to find the Answer to Life, the Universe, and Everything. More precisely... rewrite small numbers from input to output. Stop processing input after reading in the number 42. All numbers at input are integers of one or two digits.**\n",
    "\n",
    "**Sample Input : 1\n",
    "2\n",
    "88\n",
    "42\n",
    "99**\n",
    "\n",
    "**Sample Output :1\n",
    "2\n",
    "88**\n",
    "\n"
   ]
  },
  {
   "cell_type": "code",
   "execution_count": 3,
   "metadata": {},
   "outputs": [
    {
     "name": "stdout",
     "output_type": "stream",
     "text": [
      "3\n",
      "4\n",
      "5\n",
      "6\n",
      "7\n",
      "8\n",
      "44\n",
      "42\n",
      "[3, 4, 5, 6, 7, 8, 44]\n"
     ]
    }
   ],
   "source": [
    "lis=[]\n",
    "while True:\n",
    "    b=int(input())\n",
    "    if b==42:\n",
    "        break\n",
    "    else:\n",
    "        lis.append(b)\n",
    "\n",
    "for i in lis:\n",
    "    print(i)\n"
   ]
  },
  {
   "cell_type": "code",
   "execution_count": 16,
   "metadata": {},
   "outputs": [
    {
     "name": "stdout",
     "output_type": "stream",
     "text": [
      "12X345-67\n",
      "Invalid\n"
     ]
    }
   ],
   "source": [
    "a=input()\n",
    "b=[\"A\",\"E\",\"I\",\"O\",\"U\",\"Y\"]\n",
    "if (int(a[0])+int(a[1]))%2==0 and (a[2] not in b) and (int(a[3])+int(a[4]))%2==0 and (int(a[4])+int(a[5]))%2==0 and (int(a[7])+int(a[8]))%2==0:\n",
    "    print('valid')\n",
    "else:\n",
    "    print('invalid')\n"
   ]
  },
  {
   "cell_type": "markdown",
   "metadata": {},
   "source": [
    "## Lift queries\n",
    "\n",
    "**There are 7 floors in BH3 and only 2 lifts. Initially Lift A is at the ground floor and Lift B at the top floor. Whenever someone calls the lift from N th floor, the lift closest to that floor comes to pick him up. If both the lifts are at equidistant from the N th floor, them the lift from the lower floor comes up.**\n",
    "\n",
    "**INPUT**\n",
    "\n",
    "**First line contains a integer T denoting the number of test cases.**\n",
    "\n",
    "**Next T lines contains a single integer N denoting the floor from which lift is called**\n",
    "\n",
    "**OUTPUT**\n",
    "\n",
    "**Output T lines containing one character \"A\" if the first lift goes to N th floor or \"B\" for the second lift.**\n",
    "\n",
    "\n",
    "**CONTRAINTS**\n",
    "\n",
    "**0 <= N <= 7**\n",
    "\n",
    "**1 <= T <= 100000**\n",
    "\n",
    " \n",
    "\n",
    "**SAMPLE INPUT : \n",
    "2\n",
    "3\n",
    "5**\n",
    "\n",
    "**SAMPLE OUTPUT : \n",
    "A\n",
    "A**"
   ]
  },
  {
   "cell_type": "code",
   "execution_count": 17,
   "metadata": {},
   "outputs": [
    {
     "name": "stdout",
     "output_type": "stream",
     "text": [
      "4\n",
      "2\n",
      "A\n",
      "6\n",
      "B\n",
      "4\n",
      "A\n",
      "5\n",
      "A\n"
     ]
    }
   ],
   "source": [
    "liftA=0\n",
    "liftB=7\n",
    "a=int(input())\n",
    "for i in range(a):\n",
    "    b=int(input())\n",
    "    c=abs(liftA-b)\n",
    "    d=abs(liftB-b)\n",
    "    if c<=d:\n",
    "        print(\"A\")\n",
    "        liftA=b\n",
    "    else:\n",
    "        print('B')\n",
    "        liftB=b\n",
    "\n",
    "    "
   ]
  },
  {
   "cell_type": "markdown",
   "metadata": {},
   "source": [
    "## 7 Segment Display:\n",
    "\n",
    "You all must have seen a seven segment display.If not here it is:\n",
    "\n",
    "\n",
    "\n",
    "Alice got a number written in seven segment format where each segment was creatted used a matchstick.\n",
    "\n",
    "Example: If Alice gets a number 123 so basically Alice used 12 matchsticks for this number.\n",
    "\n",
    "Alice is wondering what is the numerically largest value that she can generate by using at most the matchsticks that she currently possess.Help Alice out by telling her that number.\n",
    "\n",
    " \n",
    "\n",
    "**Input Format:**\n",
    "\n",
    "**First line contains T (test cases).**\n",
    "\n",
    "**Next T lines contain a Number N.**\n",
    "\n",
    "**Output Format:**\n",
    "\n",
    "**Print the largest possible number numerically that can be generated using at max that many number of matchsticks which was used to generate N.**\n",
    "\n",
    "Constraints:\n",
    "\n",
    "\n",
    "\n",
    "**SAMPLE INPUT : \n",
    "2\n",
    "1\n",
    "0**\n",
    "\n",
    "**SAMPLE OUTPUT : \n",
    "1\n",
    "111**\n",
    "\n",
    "**Explanation**\n",
    "\n",
    "**If you have 1 as your number that means you have 2 match sticks.You can generate 1 using this.**\n",
    "\n",
    "**If you have 0 as your number that means you have 6 match sticks.You can generate 111 using this.**"
   ]
  },
  {
   "cell_type": "code",
   "execution_count": 3,
   "metadata": {},
   "outputs": [
    {
     "name": "stdout",
     "output_type": "stream",
     "text": [
      "1\n",
      "100 8445914752334217384616425239834258842968210917150466215005566541456111472213037091760933758638073416\n"
     ]
    },
    {
     "ename": "ValueError",
     "evalue": "invalid literal for int() with base 10: '100 8445914752334217384616425239834258842968210917150466215005566541456111472213037091760933758638073416'",
     "output_type": "error",
     "traceback": [
      "\u001b[1;31m---------------------------------------------------------------------------\u001b[0m",
      "\u001b[1;31mValueError\u001b[0m                                Traceback (most recent call last)",
      "\u001b[1;32m<ipython-input-3-c02f965f8dce>\u001b[0m in \u001b[0;36m<module>\u001b[1;34m\u001b[0m\n\u001b[0;32m      3\u001b[0m \u001b[1;32mfor\u001b[0m \u001b[0mi\u001b[0m \u001b[1;32min\u001b[0m \u001b[0mrange\u001b[0m\u001b[1;33m(\u001b[0m\u001b[0ma\u001b[0m\u001b[1;33m)\u001b[0m\u001b[1;33m:\u001b[0m\u001b[1;33m\u001b[0m\u001b[1;33m\u001b[0m\u001b[0m\n\u001b[0;32m      4\u001b[0m     \u001b[0msum\u001b[0m\u001b[1;33m=\u001b[0m\u001b[1;36m0\u001b[0m\u001b[1;33m\u001b[0m\u001b[1;33m\u001b[0m\u001b[0m\n\u001b[1;32m----> 5\u001b[1;33m     \u001b[0mc\u001b[0m\u001b[1;33m=\u001b[0m\u001b[0mstr\u001b[0m\u001b[1;33m(\u001b[0m\u001b[0mint\u001b[0m\u001b[1;33m(\u001b[0m\u001b[0minput\u001b[0m\u001b[1;33m(\u001b[0m\u001b[1;33m)\u001b[0m\u001b[1;33m)\u001b[0m\u001b[1;33m)\u001b[0m\u001b[1;33m\u001b[0m\u001b[1;33m\u001b[0m\u001b[0m\n\u001b[0m\u001b[0;32m      6\u001b[0m     \u001b[0mprint\u001b[0m\u001b[1;33m(\u001b[0m\u001b[0mc\u001b[0m\u001b[1;33m)\u001b[0m\u001b[1;33m\u001b[0m\u001b[1;33m\u001b[0m\u001b[0m\n\u001b[0;32m      7\u001b[0m \u001b[1;31m#     c=c.strip()\u001b[0m\u001b[1;33m\u001b[0m\u001b[1;33m\u001b[0m\u001b[1;33m\u001b[0m\u001b[0m\n",
      "\u001b[1;31mValueError\u001b[0m: invalid literal for int() with base 10: '100 8445914752334217384616425239834258842968210917150466215005566541456111472213037091760933758638073416'"
     ]
    }
   ],
   "source": [
    "a=int(input())\n",
    "Dict={'0':6,'1':2,'2':5,'3':5,'4':4,'5':5,'6':6,'7':3,'8':7,'9':6}\n",
    "for i in range(a):\n",
    "    sum=0\n",
    "    c=str(int(input()))\n",
    "    c=c.strip()\n",
    "    for j in c:\n",
    "        sum+=Dict[j]\n",
    "    coefficent=sum//2\n",
    "    reminder=sum%2\n",
    "    if reminder==0:\n",
    "        print('1'*coefficent)\n",
    "    else:\n",
    "        print('7'+('1'*(coefficent-1)))\n",
    "        "
   ]
  },
  {
   "cell_type": "code",
   "execution_count": 4,
   "metadata": {},
   "outputs": [
    {
     "data": {
      "text/plain": [
       "1"
      ]
     },
     "execution_count": 4,
     "metadata": {},
     "output_type": "execute_result"
    }
   ],
   "source": [
    "123%2"
   ]
  },
  {
   "cell_type": "code",
   "execution_count": 5,
   "metadata": {},
   "outputs": [
    {
     "data": {
      "text/plain": [
       "5"
      ]
     },
     "execution_count": 5,
     "metadata": {},
     "output_type": "execute_result"
    }
   ],
   "source": [
    "# 26-07-2019\n",
    "\n",
    "l=[1,2,3,4,5]\n",
    "len(l)"
   ]
  },
  {
   "cell_type": "code",
   "execution_count": null,
   "metadata": {},
   "outputs": [
    {
     "name": "stdout",
     "output_type": "stream",
     "text": [
      "2\n",
      " 24 25\n",
      "False\n"
     ]
    }
   ],
   "source": [
    "a=int(input())\n",
    "for i in range(a):\n",
    "    b=list(map(int,input().split()))\n",
    "    c=b[0]\n",
    "    d=b[1]\n",
    "    f=[]\n",
    "    g=[]\n",
    "    sum1=0\n",
    "    sum2=0\n",
    "    for j in range(1,c+1):\n",
    "        if c%j==0:\n",
    "            f.append(j)\n",
    "\n",
    "    for k in range(1,d+1):\n",
    "        if d%k==0:\n",
    "            g.append(k)\n",
    "#     for l in range(len(f)):\n",
    "    for l in f:\n",
    "        if l>1:\n",
    "            for m in range(2,l):\n",
    "                if l%m==0:\n",
    "                    break\n",
    "                else:\n",
    "                    sum1+=m\n",
    "#     for n in range(len(g)):\n",
    "    for n in g:\n",
    "        if n>1:\n",
    "            for o in range(2,n):\n",
    "                if n%o==0:\n",
    "                    break\n",
    "                else:\n",
    "                    sum2+=o\n",
    "    if int(sum1)==int(sum2):\n",
    "        print('True')\n",
    "    else:\n",
    "        print('False')"
   ]
  },
  {
   "cell_type": "markdown",
   "metadata": {},
   "source": [
    "### Eprime(e),Bmrip(b),Prime(p),Not a prime (c)"
   ]
  },
  {
   "cell_type": "code",
   "execution_count": 24,
   "metadata": {},
   "outputs": [
    {
     "name": "stdout",
     "output_type": "stream",
     "text": [
      "1\n",
      "101\n",
      "P\n"
     ]
    }
   ],
   "source": [
    "def isprime(n):\n",
    "    for i in range(2,n):\n",
    "        if n%i==0:\n",
    "            return False\n",
    "        return True\n",
    "\n",
    "def isemirp(n):\n",
    "    n=str(n)\n",
    "    if n==n[::-1]:\n",
    "        return False\n",
    "    return isprime(int(n[::-1]))\n",
    "\n",
    "def isbemip(n):\n",
    "    n=str(n)\n",
    "    num=''\n",
    "    for i in n:\n",
    "        if i=='6':\n",
    "            num+='9'\n",
    "        elif i=='9':\n",
    "            num+='6'\n",
    "        else:\n",
    "            num+=i\n",
    "    return isemirp(int(num))\n",
    "\n",
    "n=int(input())\n",
    "for i in range(n):\n",
    "    num=int(input())\n",
    "    status='C'\n",
    "    if isprime(num):\n",
    "        status='P'\n",
    "        if isemirp(num):\n",
    "            status='E'\n",
    "            if isbemip(num):\n",
    "                status='B'\n",
    "    print(status)"
   ]
  },
  {
   "cell_type": "code",
   "execution_count": null,
   "metadata": {},
   "outputs": [],
   "source": [
    "def sum_of_prime(n):\n",
    "    s=0\n",
    "    for i in range(2,n):\n",
    "        if n%i==0:\n",
    "            if isprime(i):\n",
    "                s+=i\n",
    "    return s\n",
    "n=int(input())\n",
    "for i in range(n):\n",
    "    "
   ]
  },
  {
   "cell_type": "code",
   "execution_count": 11,
   "metadata": {},
   "outputs": [
    {
     "name": "stdout",
     "output_type": "stream",
     "text": [
      "[1 2 3 4]\n",
      "<class 'numpy.ndarray'>\n"
     ]
    },
    {
     "data": {
      "text/plain": [
       "['__add__',\n",
       " '__class__',\n",
       " '__contains__',\n",
       " '__delattr__',\n",
       " '__delitem__',\n",
       " '__dir__',\n",
       " '__doc__',\n",
       " '__eq__',\n",
       " '__format__',\n",
       " '__ge__',\n",
       " '__getattribute__',\n",
       " '__getitem__',\n",
       " '__gt__',\n",
       " '__hash__',\n",
       " '__iadd__',\n",
       " '__imul__',\n",
       " '__init__',\n",
       " '__init_subclass__',\n",
       " '__iter__',\n",
       " '__le__',\n",
       " '__len__',\n",
       " '__lt__',\n",
       " '__mul__',\n",
       " '__ne__',\n",
       " '__new__',\n",
       " '__reduce__',\n",
       " '__reduce_ex__',\n",
       " '__repr__',\n",
       " '__reversed__',\n",
       " '__rmul__',\n",
       " '__setattr__',\n",
       " '__setitem__',\n",
       " '__sizeof__',\n",
       " '__str__',\n",
       " '__subclasshook__',\n",
       " 'append',\n",
       " 'clear',\n",
       " 'copy',\n",
       " 'count',\n",
       " 'extend',\n",
       " 'index',\n",
       " 'insert',\n",
       " 'pop',\n",
       " 'remove',\n",
       " 'reverse',\n",
       " 'sort']"
      ]
     },
     "execution_count": 11,
     "metadata": {},
     "output_type": "execute_result"
    }
   ],
   "source": [
    "import numpy as n\n",
    "l=[1,2,3,4]\n",
    "print(n.array(l))  # [1 2 3 4]\n",
    "# print(type(n.array(l)))\n",
    "print(type(n.array(l)))\n",
    "\n",
    "dir(l)\n"
   ]
  },
  {
   "cell_type": "code",
   "execution_count": null,
   "metadata": {},
   "outputs": [],
   "source": []
  }
 ],
 "metadata": {
  "kernelspec": {
   "display_name": "Python 3",
   "language": "python",
   "name": "python3"
  },
  "language_info": {
   "codemirror_mode": {
    "name": "ipython",
    "version": 3
   },
   "file_extension": ".py",
   "mimetype": "text/x-python",
   "name": "python",
   "nbconvert_exporter": "python",
   "pygments_lexer": "ipython3",
   "version": "3.7.3"
  }
 },
 "nbformat": 4,
 "nbformat_minor": 2
}
