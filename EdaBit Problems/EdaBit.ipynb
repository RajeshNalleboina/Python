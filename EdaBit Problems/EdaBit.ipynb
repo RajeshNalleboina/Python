{
 "cells": [
  {
   "cell_type": "markdown",
   "metadata": {},
   "source": [
    "### Create a function that takes a number as an argument and returns True or False depending on whether the number is symmetrical or not. A number is symmetrical when it is the same as its reverse.\n",
    "\n",
    "```is_symmetrical(7227) ➞ True\n",
    "\n",
    "is_symmetrical(12567) ➞ False\n",
    "\n",
    "is_symmetrical(44444444) ➞ True\n",
    "\n",
    "is_symmetrical(9939) ➞ False\n",
    "\n",
    "is_symmetrical(1112111) ➞ True```"
   ]
  },
  {
   "cell_type": "code",
   "execution_count": 11,
   "metadata": {},
   "outputs": [
    {
     "data": {
      "text/plain": [
       "True"
      ]
     },
     "execution_count": 11,
     "metadata": {},
     "output_type": "execute_result"
    }
   ],
   "source": [
    "def is_symmetrical(num):\n",
    "    temp=num\n",
    "    rev=0\n",
    "    if(num==1):\n",
    "        return True\n",
    "    else:\n",
    "        while (num>0):\n",
    "            rem=num%10\n",
    "            rev=(rev*10)+rem\n",
    "            num=num//10\n",
    "        if temp==rev:\n",
    "            return True\n",
    "        else:\n",
    "            return False\n",
    "is_symmetrical(3223)"
   ]
  },
  {
   "cell_type": "code",
   "execution_count": 19,
   "metadata": {},
   "outputs": [
    {
     "data": {
      "text/plain": [
       "'last_name,first_name'"
      ]
     },
     "execution_count": 19,
     "metadata": {},
     "output_type": "execute_result"
    }
   ],
   "source": [
    "def concat_name(first_name, last_name):\n",
    "    return last_name+\",\"+ first_name\n",
    "concat_name(\"first_name\" , \"last_name\")"
   ]
  },
  {
   "cell_type": "code",
   "execution_count": 22,
   "metadata": {},
   "outputs": [
    {
     "data": {
      "text/plain": [
       "False"
      ]
     },
     "execution_count": 22,
     "metadata": {},
     "output_type": "execute_result"
    }
   ],
   "source": [
    "# If text contains space print true \n",
    "\n",
    "def has_spaces(txt):\n",
    "\tif ' ' in txt:\n",
    "\t\treturn True\n",
    "\telse:\n",
    "\t\treturn False\n",
    "has_spaces('hello Rajesh')"
   ]
  },
  {
   "cell_type": "code",
   "execution_count": 26,
   "metadata": {},
   "outputs": [
    {
     "data": {
      "text/plain": [
       "4"
      ]
     },
     "execution_count": 26,
     "metadata": {},
     "output_type": "execute_result"
    }
   ],
   "source": [
    "# Print the last element in a list\n",
    "def getLastItem(lst):\n",
    "    x=len(lst)\n",
    "    return lst[x-1]\n",
    "getLastItem([1,2,3,4])"
   ]
  },
  {
   "cell_type": "code",
   "execution_count": 63,
   "metadata": {},
   "outputs": [
    {
     "data": {
      "text/plain": [
       "'-----'"
      ]
     },
     "execution_count": 63,
     "metadata": {},
     "output_type": "execute_result"
    }
   ],
   "source": [
    "# print - with in a given range with string format\n",
    "\n",
    "def num_to_dashes(num):\n",
    "    a=\"-\"\n",
    "    a=a*num \n",
    "    return a\n",
    "num_to_dashes(5)"
   ]
  },
  {
   "cell_type": "code",
   "execution_count": 61,
   "metadata": {},
   "outputs": [
    {
     "name": "stdout",
     "output_type": "stream",
     "text": [
      "\"-\"\n"
     ]
    }
   ],
   "source": [
    "def num_to_dashes(num):\n",
    "    s=\"\"\n",
    "    for i in range(num):\n",
    "        s+='-'\n",
    "    print('\"'+s+'\"')\n",
    "num_to_dashes(1)\n"
   ]
  },
  {
   "cell_type": "code",
   "execution_count": null,
   "metadata": {},
   "outputs": [],
   "source": []
  }
 ],
 "metadata": {
  "kernelspec": {
   "display_name": "Python 3",
   "language": "python",
   "name": "python3"
  },
  "language_info": {
   "codemirror_mode": {
    "name": "ipython",
    "version": 3
   },
   "file_extension": ".py",
   "mimetype": "text/x-python",
   "name": "python",
   "nbconvert_exporter": "python",
   "pygments_lexer": "ipython3",
   "version": "3.7.3"
  }
 },
 "nbformat": 4,
 "nbformat_minor": 2
}
