{
 "cells": [
  {
   "cell_type": "markdown",
   "metadata": {},
   "source": [
    "### 1. Function to print all numbers divisible by 6 and not a factor of 100 in a given range(lb, ub) inclusive\n"
   ]
  },
  {
   "cell_type": "code",
   "execution_count": 1,
   "metadata": {},
   "outputs": [
    {
     "name": "stdout",
     "output_type": "stream",
     "text": [
      "1\n",
      "10\n",
      "6 "
     ]
    }
   ],
   "source": [
    "lb=int(input())\n",
    "ub=int(input())\n",
    "\n",
    "def dev():\n",
    "    for i in range(lb,ub+1):\n",
    "        if i%6==0 and i%100!=0:\n",
    "            print(i, end=' ')\n",
    "dev()"
   ]
  },
  {
   "cell_type": "markdown",
   "metadata": {},
   "source": [
    "### 2. Function to find the average of cubes of all even numbers in a given range(lb, ub) inclusive"
   ]
  },
  {
   "cell_type": "code",
   "execution_count": 2,
   "metadata": {},
   "outputs": [
    {
     "name": "stdout",
     "output_type": "stream",
     "text": [
      "2\n",
      "9\n",
      "200.0\n"
     ]
    }
   ],
   "source": [
    "lb=int(input())\n",
    "ub=int(input())\n",
    "\n",
    "def cubes():\n",
    "    x=1\n",
    "    sum=0\n",
    "    count=0\n",
    "    for i in range(lb,ub+1):\n",
    "        if i%2==0:\n",
    "            x=i**3\n",
    "            count=count+1\n",
    "            sum=sum+x\n",
    "    print(sum/count)\n",
    "            \n",
    "            \n",
    "cubes()"
   ]
  },
  {
   "cell_type": "markdown",
   "metadata": {},
   "source": [
    "### 3. Function to generate the list of factors for a given number"
   ]
  },
  {
   "cell_type": "code",
   "execution_count": 3,
   "metadata": {},
   "outputs": [
    {
     "name": "stdout",
     "output_type": "stream",
     "text": [
      "2\n",
      "1 2 "
     ]
    }
   ],
   "source": [
    "a=int(input())\n",
    "def factors():\n",
    "    for i in range(1,a+1):\n",
    "        if a%i==0:\n",
    "            print(i, end=' ')\n",
    "factors()"
   ]
  },
  {
   "cell_type": "markdown",
   "metadata": {},
   "source": [
    "### 4. Function to calculate the factorial of a given number"
   ]
  },
  {
   "cell_type": "code",
   "execution_count": 4,
   "metadata": {},
   "outputs": [
    {
     "name": "stdout",
     "output_type": "stream",
     "text": [
      "3\n",
      "The factorial of a given number is :  6\n"
     ]
    }
   ],
   "source": [
    "a=int(input())\n",
    "def factorial():\n",
    "    fact=1\n",
    "    for i in range(1,a+1):\n",
    "        fact=fact*i\n",
    "    print(\"The factorial of a given number is : \",fact)\n",
    "factorial()"
   ]
  },
  {
   "cell_type": "markdown",
   "metadata": {},
   "source": [
    "### 5. Function to check if a given number is Prime"
   ]
  },
  {
   "cell_type": "code",
   "execution_count": 11,
   "metadata": {},
   "outputs": [
    {
     "name": "stdout",
     "output_type": "stream",
     "text": [
      "29\n",
      "Prime\n"
     ]
    }
   ],
   "source": [
    "n=int(input())\n",
    "\n",
    "def isPrime():\n",
    "        x=0\n",
    "        for i in range(2,n):\n",
    "            if(n%i==0):\n",
    "                x=1\n",
    "        if(x==0):\n",
    "            print('Prime')\n",
    "        else:\n",
    "            print('not prime')\n",
    "                        \n",
    "isPrime()"
   ]
  },
  {
   "cell_type": "markdown",
   "metadata": {},
   "source": [
    "### 6. Function to calculate the average first N Prime numbers"
   ]
  },
  {
   "cell_type": "code",
   "execution_count": null,
   "metadata": {},
   "outputs": [],
   "source": [
    "n=int(input())\n",
    "def avgofPrime():\n",
    "    \n",
    "avgofPrime()"
   ]
  },
  {
   "cell_type": "markdown",
   "metadata": {},
   "source": [
    "### 6. Given the participants ‘n’ score sheet for your University Sports Day, you are required to find the runner-up score. You are given scores. Store them in a list and find the score of the runner-up. (there can be multiple winners - if their scores match)."
   ]
  },
  {
   "cell_type": "code",
   "execution_count": 6,
   "metadata": {},
   "outputs": [
    {
     "name": "stdout",
     "output_type": "stream",
     "text": [
      "5\n",
      "1\n",
      "2\n",
      "3\n",
      "4\n",
      "5\n",
      "runner_up_scores is :  4\n"
     ]
    }
   ],
   "source": [
    "n=int(input())\n",
    "scores=[]\n",
    "for i in range(n):\n",
    "    s=int(input())\n",
    "    scores.append(s)\n",
    "scores=sorted(scores,reverse=True)\n",
    "max_scores=max(scores)\n",
    "runner_up_scores=scores[1]\n",
    "\n",
    "try:\n",
    "    for i in range(1,n):\n",
    "        if max_scores==scores[i]:\n",
    "            runner_up_scores=scores[i+1]\n",
    "    print('runner_up_scores is : ',runner_up_scores)\n",
    "except:\n",
    "    print(\"There is no_runner_up_score\")\n"
   ]
  },
  {
   "cell_type": "markdown",
   "metadata": {},
   "source": [
    "#### List :"
   ]
  },
  {
   "cell_type": "code",
   "execution_count": 7,
   "metadata": {},
   "outputs": [
    {
     "name": "stdout",
     "output_type": "stream",
     "text": [
      "['__add__', '__class__', '__contains__', '__delattr__', '__delitem__', '__dir__', '__doc__', '__eq__', '__format__', '__ge__', '__getattribute__', '__getitem__', '__gt__', '__hash__', '__iadd__', '__imul__', '__init__', '__init_subclass__', '__iter__', '__le__', '__len__', '__lt__', '__mul__', '__ne__', '__new__', '__reduce__', '__reduce_ex__', '__repr__', '__reversed__', '__rmul__', '__setattr__', '__setitem__', '__sizeof__', '__str__', '__subclasshook__', 'append', 'clear', 'copy', 'count', 'extend', 'index', 'insert', 'pop', 'remove', 'reverse', 'sort'] "
     ]
    }
   ],
   "source": [
    "l=dir(list)\n",
    "print(l,end=' ')"
   ]
  },
  {
   "cell_type": "code",
   "execution_count": 8,
   "metadata": {},
   "outputs": [
    {
     "data": {
      "text/plain": [
       "1"
      ]
     },
     "execution_count": 8,
     "metadata": {},
     "output_type": "execute_result"
    }
   ],
   "source": [
    "l=[1,2,3,4,5]\n",
    "#l\n",
    "#l.clear() # clear the list\n",
    "#l[2]  # Accessing the individual elements\n",
    "#l2=l.copy() # copy the list \n",
    "#l2\n",
    "\n",
    "#l2=['Rajesh','Ravi','Andhra']\n",
    "#l2.extend(l)  # its add a list into another\n",
    "#l2\n",
    "l.count(1)  # return the "
   ]
  },
  {
   "cell_type": "markdown",
   "metadata": {},
   "source": [
    "##  Dictionaries:\n"
   ]
  },
  {
   "cell_type": "code",
   "execution_count": 9,
   "metadata": {},
   "outputs": [
    {
     "name": "stdout",
     "output_type": "stream",
     "text": [
      "Rajesh\n"
     ]
    },
    {
     "data": {
      "text/plain": [
       "{'name': 'Rajesh', 'age': 25, 'profession': 'Trainer'}"
      ]
     },
     "execution_count": 9,
     "metadata": {},
     "output_type": "execute_result"
    }
   ],
   "source": [
    "sample={'name':'Rajesh','age':24, 'profession':'Trainer'}\n",
    "print(sample['name'])\n",
    "sample.get('age')\n",
    "sample['age']=25 # Update the particular content\n",
    "sample"
   ]
  },
  {
   "cell_type": "code",
   "execution_count": 10,
   "metadata": {},
   "outputs": [
    {
     "name": "stdout",
     "output_type": "stream",
     "text": [
      "name\n",
      "age\n",
      "profession\n"
     ]
    }
   ],
   "source": [
    "for i in sample:\n",
    "    print(i)"
   ]
  },
  {
   "cell_type": "code",
   "execution_count": 11,
   "metadata": {},
   "outputs": [
    {
     "name": "stdout",
     "output_type": "stream",
     "text": [
      "Rajesh\n",
      "25\n",
      "Trainer\n"
     ]
    }
   ],
   "source": [
    "for i in sample.values():\n",
    "    print(i)"
   ]
  },
  {
   "cell_type": "code",
   "execution_count": null,
   "metadata": {},
   "outputs": [],
   "source": [
    "if 'name' in sample:\n",
    "    print('Name is  available')"
   ]
  },
  {
   "cell_type": "code",
   "execution_count": null,
   "metadata": {},
   "outputs": [],
   "source": [
    "if 'model' not in sample:\n",
    "    print('model is not available in the sample')"
   ]
  },
  {
   "cell_type": "code",
   "execution_count": null,
   "metadata": {},
   "outputs": [],
   "source": [
    "# adding the one more list item\n",
    "sample['sal']=1000\n",
    "sample"
   ]
  },
  {
   "cell_type": "code",
   "execution_count": 12,
   "metadata": {},
   "outputs": [
    {
     "data": {
      "text/plain": [
       "{'name': 'Rajesh', 'age': 25}"
      ]
     },
     "execution_count": 12,
     "metadata": {},
     "output_type": "execute_result"
    }
   ],
   "source": [
    "# pop remove the last property and value\n",
    "\n",
    "sample.popitem()\n",
    "sample"
   ]
  },
  {
   "cell_type": "code",
   "execution_count": 13,
   "metadata": {},
   "outputs": [
    {
     "data": {
      "text/plain": [
       "{'name': 'Rajesh'}"
      ]
     },
     "execution_count": 13,
     "metadata": {},
     "output_type": "execute_result"
    }
   ],
   "source": [
    "# delete the particular property with value\n",
    "\n",
    "del sample['age']\n",
    "sample"
   ]
  },
  {
   "cell_type": "code",
   "execution_count": 15,
   "metadata": {},
   "outputs": [
    {
     "data": {
      "text/plain": [
       "{'name': 'Rajesh', 'age': 24, 'Profession': 'Hahaha'}"
      ]
     },
     "execution_count": 15,
     "metadata": {},
     "output_type": "execute_result"
    }
   ],
   "source": [
    "sample=dict(name='Rajesh',age= 24, Profession='Hahaha')\n",
    "sample"
   ]
  },
  {
   "cell_type": "code",
   "execution_count": 28,
   "metadata": {},
   "outputs": [
    {
     "name": "stdout",
     "output_type": "stream",
     "text": [
      "Enter the name:  sa\n",
      "Enter the scores:  2\n",
      "Enter the name:  da\n",
      "Enter the scores:  32\n",
      "Enter the name:  ea\n",
      "Enter the scores:  32\n",
      "da\n",
      "ea\n"
     ]
    }
   ],
   "source": [
    "# Read all the individual scores of 10 sports persons and display the winner name use Dictionaries for this prob\n",
    "\n",
    "sports={}\n",
    "\n",
    "# Read scoreds and sports persons names\n",
    "\n",
    "for i in range(3):\n",
    "    name=input('Enter the name:  ')\n",
    "    score=input('Enter the scores:  ')\n",
    "    sports[name]=score\n",
    "max_score=max(sports.values())\n",
    "\n",
    "\n",
    "for i in sports.items():\n",
    "    if i[1]== max_score:\n",
    "        print(i[0])"
   ]
  },
  {
   "cell_type": "code",
   "execution_count": 3,
   "metadata": {},
   "outputs": [
    {
     "name": "stdout",
     "output_type": "stream",
     "text": [
      "Enter the name:  rajesh\n",
      "Enter the scores:  23\n",
      "Enter the name:  praneeth\n",
      "Enter the scores:  43\n",
      "Enter the name:  sai\n",
      "Enter the scores:  43\n",
      "praneeth => 1\n",
      "sai => 2\n",
      "rajesh => 3\n"
     ]
    }
   ],
   "source": [
    "# Read all the individual scores of 3 persons ex: a=12, b=43, c= 23   desending order :1 ->b, 2->c,  3->a\n",
    "\n",
    "sports={}\n",
    "\n",
    "# Read scoreds and sports persons names\n",
    "for i in range(3):\n",
    "    name=input('Enter the name:  ')\n",
    "    score=input('Enter the scores:  ')\n",
    "    sports[name]=score\n",
    "    \n",
    "sports_sorted = sorted(sports, key=sports.get, reverse=True)\n",
    "# sports_sorted = sorted(sports.item(), key=lambda x: (-x[1],x[0]))\n",
    "\n",
    "\n",
    "for r in range(0,len(sports_sorted)):\n",
    "    print (sports_sorted[r],\"=>\",(r+1))"
   ]
  },
  {
   "cell_type": "markdown",
   "metadata": {},
   "source": [
    "### Given two integers find out the number of common factors to those integers"
   ]
  },
  {
   "cell_type": "code",
   "execution_count": 22,
   "metadata": {},
   "outputs": [
    {
     "name": "stdout",
     "output_type": "stream",
     "text": [
      "100\n",
      "150\n",
      "1\n",
      "2\n",
      "5\n",
      "10\n",
      "25\n",
      "50\n",
      "The Common Factors of n1 and n2 is :  6\n"
     ]
    }
   ],
   "source": [
    "n1=int(input())\n",
    "n2=int(input())\n",
    "temp=min(n1,n2)\n",
    "count=0\n",
    "for i in range(1,temp):\n",
    "    if n1%i==0 and n2%i==0:\n",
    "        print(i)\n",
    "        count=count+1\n",
    "print(\"The Common Factors of n1 and n2 is : \",count)\n"
   ]
  },
  {
   "cell_type": "markdown",
   "metadata": {},
   "source": [
    "## Functions :\n"
   ]
  },
  {
   "cell_type": "code",
   "execution_count": 12,
   "metadata": {},
   "outputs": [
    {
     "data": {
      "text/plain": [
       "30"
      ]
     },
     "execution_count": 12,
     "metadata": {},
     "output_type": "execute_result"
    }
   ],
   "source": [
    "\n"
   ]
  },
  {
   "cell_type": "markdown",
   "metadata": {},
   "source": [
    "### 1. Find the Heighest frequent element in the list \n",
    " ###### ex: [1,1,1,1,2,3,4,2,1,1,2,4,2]   o/p : 1\n",
    " \n",
    "### 2. Find the 2nd Heighest frequent element in the list \n",
    "###### ex: [1,1,1,1,2,3,4,2,1,1,2,4,2]   o/p : 2\n",
    " \n",
    " ### 3. Find the nth Heighest frequent element in the list \n",
    " ###### ex: [1,1,1,1,2,3,4,2,1,1,2,4,2]   o/p : 3\n",
    " \n",
    " ### 4. Find the absolute difference of two numbers. Without 'abs' function"
   ]
  },
  {
   "cell_type": "code",
   "execution_count": 1,
   "metadata": {},
   "outputs": [
    {
     "name": "stdout",
     "output_type": "stream",
     "text": [
      "10\n",
      "20\n",
      "10\n"
     ]
    }
   ],
   "source": [
    "#4 Find the absolute difference of two numbers. Without 'abs' function\n",
    "import math\n",
    "a=int(input())\n",
    "b=int(input())\n",
    "x=a-b\n",
    "# if x<0:\n",
    "#     print(-x)\n",
    "# else:\n",
    "#     print(x)\n",
    "\n",
    "# another way\n",
    "\n",
    "if x<0:\n",
    "    z=(x*x/(-x))\n",
    "    print(math.floor(z))\n",
    "else:\n",
    "    print(x)"
   ]
  },
  {
   "cell_type": "code",
   "execution_count": 19,
   "metadata": {},
   "outputs": [
    {
     "name": "stdout",
     "output_type": "stream",
     "text": [
      "Most frequent number is : 1\n"
     ]
    }
   ],
   "source": [
    "# 1. Find the Heighest frequent element in the list\n",
    "\n",
    "f=[1,2,3,4,5,3,1,2,3,1,3,1,2,3,1,1,3,2]\n",
    "max = 0\n",
    "res = f[0] \n",
    "for i in f: \n",
    "    freq = f.count(i) \n",
    "    if freq > max: \n",
    "        max = freq\n",
    "        res = i\n",
    "print (\"Most frequent number is : \" + str(res))"
   ]
  },
  {
   "cell_type": "code",
   "execution_count": 33,
   "metadata": {},
   "outputs": [
    {
     "name": "stdout",
     "output_type": "stream",
     "text": [
      "{1: 6, 2: 4, 3: 6, 4: 1, 5: 1}\n",
      "[6, 4, 1]\n",
      "[1, 4, 6]\n"
     ]
    }
   ],
   "source": [
    "def frequent_element(f,s):\n",
    "    fre={}\n",
    "    for i in f:\n",
    "        if i in fre:\n",
    "            fre[i]+=1\n",
    "        else:\n",
    "            fre[i]=1\n",
    "    print(fre)\n",
    "    \n",
    "    f1=[]\n",
    "    for key,value in fre.items():\n",
    "        if value not in f1:\n",
    "            f1.append(value)\n",
    "    print(f1)\n",
    "    s1=sorted(f1)\n",
    "    print(s1)\n",
    "    n=s1(len(s1)-s)\n",
    "    \n",
    "    n1=[]\n",
    "    if len(s1)>=s:\n",
    "        for key,value in fre.item():\n",
    "            if value==n:\n",
    "                \n",
    "                \n",
    "    \n",
    "    \n",
    "frequent_element(f,2)\n",
    "\n"
   ]
  },
  {
   "cell_type": "code",
   "execution_count": 36,
   "metadata": {},
   "outputs": [
    {
     "data": {
      "text/plain": [
       "5"
      ]
     },
     "execution_count": 36,
     "metadata": {},
     "output_type": "execute_result"
    }
   ],
   "source": [
    "l=[1,2,3,4,5,6,7]\n",
    "len(l)-2"
   ]
  },
  {
   "cell_type": "code",
   "execution_count": 7,
   "metadata": {},
   "outputs": [
    {
     "name": "stdout",
     "output_type": "stream",
     "text": [
      "3\n"
     ]
    }
   ],
   "source": [
    "## Height frequency Element in hte list:\n",
    "def heightfreq(l):\n",
    "    d={} # Dictioneary\n",
    "    for i in l:\n",
    "        count=l.count(i)\n",
    "        if i not in d:\n",
    "            d[i]=count\n",
    "    return d\n",
    "    \n",
    "d=heightfreq([1,1,1,1,1,2,2,3,4,3,3,2,2,2])\n",
    "\n",
    "# second heighest elememt\n",
    "l=sorted(d.values(),reverse=True)\n",
    "\n",
    "l2=[]\n",
    "\n",
    "for i in l:\n",
    "    if i not in l2:\n",
    "        l2.append(i)\n",
    "max_val=l2[1]\n",
    "# max_val=max(d.values())\n",
    "\n",
    "\n",
    "for i in d.items():\n",
    "    if i[1]==max_val:\n",
    "        print(i[0])"
   ]
  },
  {
   "cell_type": "code",
   "execution_count": 16,
   "metadata": {
    "scrolled": true
   },
   "outputs": [
    {
     "ename": "IndentationError",
     "evalue": "unexpected indent (<ipython-input-16-b3bf30ad47fb>, line 6)",
     "output_type": "error",
     "traceback": [
      "\u001b[1;36m  File \u001b[1;32m\"<ipython-input-16-b3bf30ad47fb>\"\u001b[1;36m, line \u001b[1;32m6\u001b[0m\n\u001b[1;33m    if b%2==0:\u001b[0m\n\u001b[1;37m    ^\u001b[0m\n\u001b[1;31mIndentationError\u001b[0m\u001b[1;31m:\u001b[0m unexpected indent\n"
     ]
    }
   ],
   "source": [
    "a=int(input())\n",
    "c=0\n",
    "d=0\n",
    "for i in range(1,a+1):\n",
    "       b=int(input())\n",
    "        if b%2==0:\n",
    "            print(b,end=' ')\n",
    "            c=b\n",
    "            if c>b:\n",
    "                d=c\n",
    "\n",
    "print(d)"
   ]
  },
  {
   "cell_type": "code",
   "execution_count": 3,
   "metadata": {},
   "outputs": [
    {
     "name": "stdout",
     "output_type": "stream",
     "text": [
      "12\n",
      "24\n",
      "46\n",
      "54\n",
      "EXIT\n",
      "['12', '24', '46', '54'] \n",
      "54\n"
     ]
    }
   ],
   "source": [
    "# a=int(input())\n",
    "l1=[]\n",
    "\n",
    "while True:\n",
    "    n=input()\n",
    "    if n=='EXIT':\n",
    "        break\n",
    "    else:\n",
    "        if int(n)%2==0:\n",
    "            l1.append(n)\n",
    "print(l1,end=' ')\n",
    "print('\\n'+max(l1))"
   ]
  },
  {
   "cell_type": "code",
   "execution_count": null,
   "metadata": {},
   "outputs": [
    {
     "name": "stdout",
     "output_type": "stream",
     "text": [
      "22\n",
      "22 33\n",
      "44\n",
      "44 33\n",
      "66\n",
      "66 "
     ]
    }
   ],
   "source": [
    "l=[]\n",
    "while True:\n",
    "    n=input()\n",
    "    if n=='EXIT':\n",
    "        break\n",
    "    if int(n)%2==0:\n",
    "        print(n, end=' ')\n",
    "        l.append(int(n))\n",
    "print('\\n',ma)"
   ]
  },
  {
   "cell_type": "code",
   "execution_count": 9,
   "metadata": {},
   "outputs": [
    {
     "name": "stdout",
     "output_type": "stream",
     "text": [
      "4\n",
      "ab.com\n",
      "accd.com\n",
      "as.in\n",
      "as.com\n",
      "com\n"
     ]
    }
   ],
   "source": [
    "n=int(input())\n",
    "d={}\n",
    "for i in range(n):\n",
    "    iurl=input().split('.')\n",
    "    domain=iurl[-1]\n",
    "    if domain not in d:\n",
    "        d[domain]=1\n",
    "    else:\n",
    "        d[domain]+=1\n",
    "m=max(d.values())\n",
    "for i in d.items():\n",
    "    if i[1]==m:\n",
    "        print(i[0])\n"
   ]
  },
  {
   "cell_type": "code",
   "execution_count": null,
   "metadata": {},
   "outputs": [],
   "source": []
  }
 ],
 "metadata": {
  "kernelspec": {
   "display_name": "Python 3",
   "language": "python",
   "name": "python3"
  },
  "language_info": {
   "codemirror_mode": {
    "name": "ipython",
    "version": 3
   },
   "file_extension": ".py",
   "mimetype": "text/x-python",
   "name": "python",
   "nbconvert_exporter": "python",
   "pygments_lexer": "ipython3",
   "version": "3.7.3"
  }
 },
 "nbformat": 4,
 "nbformat_minor": 2
}
