{
 "cells": [
  {
   "cell_type": "markdown",
   "metadata": {},
   "source": [
    "## Problem Set:\n",
    "\n",
    "### 1. Function to print all numbers divisible by 6 and not a factor of 100 in a given range(lb, ub) inclusive\n",
    "### 2. Function to find the average of cubes of all even numbers in a given range(lb, ub) inclusive\n",
    "### 3. Function to generate the list of factors for a given number\n",
    "### 4. Function to calculate the factorial of a given number\n",
    "### 5. Function to check if a given number is Prime\n",
    "### 6. Function to calculate the average first N Prime numbers\n",
    "### 7. Function to generate all Perfect numbers in a given range\n",
    "\n",
    "## Advanced Problem Set( Optional )\n",
    "\n",
    "### Function to calculate the average of all factorials in a given range\n",
    "### Function to generate N odd Armstrong numbers\n",
    "### Function to generate Multiplication table for a number in a given range\n",
    "```\n",
    "10 in the range(100, 102) inclusive\n",
    "10 x 100 = 1000\n",
    "10 x 101 = 1010\n",
    "10 x 102 = 1020\n",
    "Problems That needs a Try\n",
    "```\n",
    "\n",
    "### 8. You are given a string and your task is to swap cases. In other words, convert all lowercase letters to uppercase letters and vice versa. (The String may contain special characters).\n",
    "### 9. Given an integer, ’n’ , perform the following conditional actions:\n",
    "#### If ‘n’  is odd, print Weird\n",
    "#### If  ‘n’ is even and in the inclusive range of 2 to 5, print Not Weird\n",
    "#### If  ‘n’ is even and in the inclusive range of 6 to 20 , print Weird\n",
    "#### If  ‘n’ is even and greater than 20, print Not Weird\n",
    "\n",
    "### 10. Given the participants ‘n’ score sheet for your University Sports Day, you are required to find the runner-up score. You are given scores. Store them in a list and find the score of the runner-up. (there can be multiple winners - if their scores match). \n"
   ]
  },
  {
   "cell_type": "markdown",
   "metadata": {},
   "source": [
    "\n",
    "**[https://www.anaconda.com/](AnakondaSoftware)**"
   ]
  },
  {
   "cell_type": "code",
   "execution_count": 1,
   "metadata": {},
   "outputs": [
    {
     "name": "stdout",
     "output_type": "stream",
     "text": [
      "Hello World\n"
     ]
    }
   ],
   "source": [
    "# Hello World\n",
    "\n",
    "# \n",
    "\n",
    "print('Hello World')"
   ]
  },
  {
   "cell_type": "code",
   "execution_count": null,
   "metadata": {},
   "outputs": [],
   "source": []
  }
 ],
 "metadata": {
  "kernelspec": {
   "display_name": "Python 3",
   "language": "python",
   "name": "python3"
  },
  "language_info": {
   "codemirror_mode": {
    "name": "ipython",
    "version": 3
   },
   "file_extension": ".py",
   "mimetype": "text/x-python",
   "name": "python",
   "nbconvert_exporter": "python",
   "pygments_lexer": "ipython3",
   "version": "3.7.3"
  }
 },
 "nbformat": 4,
 "nbformat_minor": 2
}
