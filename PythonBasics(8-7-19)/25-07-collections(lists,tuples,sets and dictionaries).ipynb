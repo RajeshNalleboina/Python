{
 "cells": [
  {
   "cell_type": "code",
   "execution_count": 6,
   "metadata": {},
   "outputs": [
    {
     "data": {
      "text/plain": [
       "['__add__',\n",
       " '__class__',\n",
       " '__contains__',\n",
       " '__delattr__',\n",
       " '__delitem__',\n",
       " '__dir__',\n",
       " '__doc__',\n",
       " '__eq__',\n",
       " '__format__',\n",
       " '__ge__',\n",
       " '__getattribute__',\n",
       " '__getitem__',\n",
       " '__gt__',\n",
       " '__hash__',\n",
       " '__iadd__',\n",
       " '__imul__',\n",
       " '__init__',\n",
       " '__init_subclass__',\n",
       " '__iter__',\n",
       " '__le__',\n",
       " '__len__',\n",
       " '__lt__',\n",
       " '__mul__',\n",
       " '__ne__',\n",
       " '__new__',\n",
       " '__reduce__',\n",
       " '__reduce_ex__',\n",
       " '__repr__',\n",
       " '__reversed__',\n",
       " '__rmul__',\n",
       " '__setattr__',\n",
       " '__setitem__',\n",
       " '__sizeof__',\n",
       " '__str__',\n",
       " '__subclasshook__',\n",
       " 'append',\n",
       " 'clear',\n",
       " 'copy',\n",
       " 'count',\n",
       " 'extend',\n",
       " 'index',\n",
       " 'insert',\n",
       " 'pop',\n",
       " 'remove',\n",
       " 'reverse',\n",
       " 'sort']"
      ]
     },
     "execution_count": 6,
     "metadata": {},
     "output_type": "execute_result"
    }
   ],
   "source": [
    "li = [1,23,5,22,45,6]\n",
    "dir(list)"
   ]
  },
  {
   "cell_type": "code",
   "execution_count": 19,
   "metadata": {},
   "outputs": [
    {
     "data": {
      "text/plain": [
       "[1, 2, 5, 3, 4]"
      ]
     },
     "execution_count": 19,
     "metadata": {},
     "output_type": "execute_result"
    }
   ],
   "source": [
    "l = [1,2,3,4]\n",
    "l.insert(2,5)\n",
    "l"
   ]
  },
  {
   "cell_type": "code",
   "execution_count": 21,
   "metadata": {},
   "outputs": [
    {
     "data": {
      "text/plain": [
       "tuple"
      ]
     },
     "execution_count": 21,
     "metadata": {},
     "output_type": "execute_result"
    }
   ],
   "source": [
    "d = (1,2,3,4)\n",
    "type(d)"
   ]
  },
  {
   "cell_type": "code",
   "execution_count": 22,
   "metadata": {},
   "outputs": [
    {
     "data": {
      "text/plain": [
       "['__add__',\n",
       " '__class__',\n",
       " '__contains__',\n",
       " '__delattr__',\n",
       " '__dir__',\n",
       " '__doc__',\n",
       " '__eq__',\n",
       " '__format__',\n",
       " '__ge__',\n",
       " '__getattribute__',\n",
       " '__getitem__',\n",
       " '__getnewargs__',\n",
       " '__gt__',\n",
       " '__hash__',\n",
       " '__init__',\n",
       " '__init_subclass__',\n",
       " '__iter__',\n",
       " '__le__',\n",
       " '__len__',\n",
       " '__lt__',\n",
       " '__mul__',\n",
       " '__ne__',\n",
       " '__new__',\n",
       " '__reduce__',\n",
       " '__reduce_ex__',\n",
       " '__repr__',\n",
       " '__rmul__',\n",
       " '__setattr__',\n",
       " '__sizeof__',\n",
       " '__str__',\n",
       " '__subclasshook__',\n",
       " 'count',\n",
       " 'index']"
      ]
     },
     "execution_count": 22,
     "metadata": {},
     "output_type": "execute_result"
    }
   ],
   "source": [
    "dir(tuple)"
   ]
  },
  {
   "cell_type": "code",
   "execution_count": 28,
   "metadata": {},
   "outputs": [
    {
     "data": {
      "text/plain": [
       "1"
      ]
     },
     "execution_count": 28,
     "metadata": {},
     "output_type": "execute_result"
    }
   ],
   "source": [
    "tu = (1,2,34,5,1)\n",
    "tu.index(2)"
   ]
  },
  {
   "cell_type": "code",
   "execution_count": 29,
   "metadata": {},
   "outputs": [
    {
     "data": {
      "text/plain": [
       "['__and__',\n",
       " '__class__',\n",
       " '__contains__',\n",
       " '__delattr__',\n",
       " '__dir__',\n",
       " '__doc__',\n",
       " '__eq__',\n",
       " '__format__',\n",
       " '__ge__',\n",
       " '__getattribute__',\n",
       " '__gt__',\n",
       " '__hash__',\n",
       " '__iand__',\n",
       " '__init__',\n",
       " '__init_subclass__',\n",
       " '__ior__',\n",
       " '__isub__',\n",
       " '__iter__',\n",
       " '__ixor__',\n",
       " '__le__',\n",
       " '__len__',\n",
       " '__lt__',\n",
       " '__ne__',\n",
       " '__new__',\n",
       " '__or__',\n",
       " '__rand__',\n",
       " '__reduce__',\n",
       " '__reduce_ex__',\n",
       " '__repr__',\n",
       " '__ror__',\n",
       " '__rsub__',\n",
       " '__rxor__',\n",
       " '__setattr__',\n",
       " '__sizeof__',\n",
       " '__str__',\n",
       " '__sub__',\n",
       " '__subclasshook__',\n",
       " '__xor__',\n",
       " 'add',\n",
       " 'clear',\n",
       " 'copy',\n",
       " 'difference',\n",
       " 'difference_update',\n",
       " 'discard',\n",
       " 'intersection',\n",
       " 'intersection_update',\n",
       " 'isdisjoint',\n",
       " 'issubset',\n",
       " 'issuperset',\n",
       " 'pop',\n",
       " 'remove',\n",
       " 'symmetric_difference',\n",
       " 'symmetric_difference_update',\n",
       " 'union',\n",
       " 'update']"
      ]
     },
     "execution_count": 29,
     "metadata": {},
     "output_type": "execute_result"
    }
   ],
   "source": [
    "dir(set)"
   ]
  },
  {
   "cell_type": "code",
   "execution_count": 52,
   "metadata": {},
   "outputs": [
    {
     "data": {
      "text/plain": [
       "{3, 4, 5, 6, 7, 8}"
      ]
     },
     "execution_count": 52,
     "metadata": {},
     "output_type": "execute_result"
    }
   ],
   "source": [
    "s = {1,2,7,8}\n",
    "d = {1,2,3,4,5,6}\n",
    "s.intersection(d)\n",
    "s.symmetric_difference(d)"
   ]
  },
  {
   "cell_type": "code",
   "execution_count": 53,
   "metadata": {},
   "outputs": [
    {
     "data": {
      "text/plain": [
       "['__class__',\n",
       " '__contains__',\n",
       " '__delattr__',\n",
       " '__delitem__',\n",
       " '__dir__',\n",
       " '__doc__',\n",
       " '__eq__',\n",
       " '__format__',\n",
       " '__ge__',\n",
       " '__getattribute__',\n",
       " '__getitem__',\n",
       " '__gt__',\n",
       " '__hash__',\n",
       " '__init__',\n",
       " '__init_subclass__',\n",
       " '__iter__',\n",
       " '__le__',\n",
       " '__len__',\n",
       " '__lt__',\n",
       " '__ne__',\n",
       " '__new__',\n",
       " '__reduce__',\n",
       " '__reduce_ex__',\n",
       " '__repr__',\n",
       " '__setattr__',\n",
       " '__setitem__',\n",
       " '__sizeof__',\n",
       " '__str__',\n",
       " '__subclasshook__',\n",
       " 'clear',\n",
       " 'copy',\n",
       " 'fromkeys',\n",
       " 'get',\n",
       " 'items',\n",
       " 'keys',\n",
       " 'pop',\n",
       " 'popitem',\n",
       " 'setdefault',\n",
       " 'update',\n",
       " 'values']"
      ]
     },
     "execution_count": 53,
     "metadata": {},
     "output_type": "execute_result"
    }
   ],
   "source": [
    "dir(dict)"
   ]
  },
  {
   "cell_type": "code",
   "execution_count": 76,
   "metadata": {},
   "outputs": [
    {
     "name": "stdout",
     "output_type": "stream",
     "text": [
      "23\n",
      "45\n",
      "68\n",
      "87\n",
      "54\n",
      "{1: '23', 2: '45', 3: '68', 4: '87', 5: '54'}\n"
     ]
    }
   ],
   "source": [
    "a = [1,2,3,4,5]\n",
    "b = {}\n",
    "for i in range(len(a)):\n",
    "    c=input()\n",
    "    b[a[i]] = c\n",
    "print(b)\n"
   ]
  },
  {
   "cell_type": "code",
   "execution_count": 81,
   "metadata": {},
   "outputs": [
    {
     "data": {
      "text/plain": [
       "dict_values(['23', '45', '68', '87', '54'])"
      ]
     },
     "execution_count": 81,
     "metadata": {},
     "output_type": "execute_result"
    }
   ],
   "source": [
    "b.values()"
   ]
  },
  {
   "cell_type": "code",
   "execution_count": 82,
   "metadata": {},
   "outputs": [
    {
     "data": {
      "text/plain": [
       "[1, 2, 3, 4, 5]"
      ]
     },
     "execution_count": 82,
     "metadata": {},
     "output_type": "execute_result"
    }
   ],
   "source": [
    "a = list(b.keys())\n",
    "a"
   ]
  },
  {
   "cell_type": "code",
   "execution_count": 85,
   "metadata": {},
   "outputs": [
    {
     "name": "stdout",
     "output_type": "stream",
     "text": [
      "1 23\n",
      "2 45\n",
      "3 68\n",
      "4 87\n",
      "5 54\n"
     ]
    }
   ],
   "source": [
    "for x,y in b.items():\n",
    "    print(x,y)"
   ]
  },
  {
   "cell_type": "code",
   "execution_count": 3,
   "metadata": {},
   "outputs": [
    {
     "name": "stdout",
     "output_type": "stream",
     "text": [
      "1\n",
      "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\n"
     ]
    },
    {
     "name": "stdout",
     "output_type": "stream",
     "text": [
      "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\n"
     ]
    },
    {
     "name": "stdout",
     "output_type": "stream",
     "text": [
      "0 9998 9998 19996\n"
     ]
    }
   ],
   "source": [
    "t = int(input())\n",
    "A = []\n",
    "B = []\n",
    "count = 0\n",
    "for i in range(t):\n",
    "    a = input()\n",
    "    b = input()\n",
    "    A.clear()\n",
    "    B.clear()\n",
    "    count = 0\n",
    "    for j in a:\n",
    "        A.append(j)\n",
    "    for k in b:\n",
    "        B.append(k)\n",
    "    for i in range((len(A)-1),-1,-1):\n",
    "        if A[i] in B:\n",
    "            count=count+2\n",
    "    print(((len(A)+len(B))-count),len(A),len(B),count)\n",
    "    "
   ]
  },
  {
   "cell_type": "code",
   "execution_count": null,
   "metadata": {},
   "outputs": [],
   "source": []
  },
  {
   "cell_type": "code",
   "execution_count": null,
   "metadata": {},
   "outputs": [],
   "source": [
    "2\n"
   ]
  }
 ],
 "metadata": {
  "kernelspec": {
   "display_name": "Python 3",
   "language": "python",
   "name": "python3"
  },
  "language_info": {
   "codemirror_mode": {
    "name": "ipython",
    "version": 3
   },
   "file_extension": ".py",
   "mimetype": "text/x-python",
   "name": "python",
   "nbconvert_exporter": "python",
   "pygments_lexer": "ipython3",
   "version": "3.7.3"
  }
 },
 "nbformat": 4,
 "nbformat_minor": 2
}
