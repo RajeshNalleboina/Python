{
 "cells": [
  {
   "cell_type": "markdown",
   "metadata": {},
   "source": [
    "## Problem Solving and Programming\n",
    "\n",
    "\n",
    "#### Day Objectives\n",
    "   + String Slicing\n",
    "   + Functions in Python\n",
    "   + Basic Problems related to conditional statements using functions\n",
    "   + Iteration in Python\n",
    "   + Problem set for practice"
   ]
  },
  {
   "cell_type": "code",
   "execution_count": null,
   "metadata": {},
   "outputs": [],
   "source": []
  },
  {
   "cell_type": "markdown",
   "metadata": {},
   "source": [
    "### String Slicing"
   ]
  },
  {
   "cell_type": "code",
   "execution_count": 13,
   "metadata": {},
   "outputs": [
    {
     "ename": "SyntaxError",
     "evalue": "invalid syntax (<ipython-input-13-0bcc05dbdbac>, line 20)",
     "output_type": "error",
     "traceback": [
      "\u001b[1;36m  File \u001b[1;32m\"<ipython-input-13-0bcc05dbdbac>\"\u001b[1;36m, line \u001b[1;32m20\u001b[0m\n\u001b[1;33m    s[len(s)///2]\u001b[0m\n\u001b[1;37m              ^\u001b[0m\n\u001b[1;31mSyntaxError\u001b[0m\u001b[1;31m:\u001b[0m invalid syntax\n"
     ]
    }
   ],
   "source": [
    "s='Python'\n",
    "s[0] # First Char of a string\n",
    "\n",
    "s[1] # Second char of a string\n",
    "\n",
    "s[len(s)-1] # Last Char of a string\n",
    "\n",
    "s[-1]  # print the last char of a string\n",
    "\n",
    "s[-2] # Accessing the penultimate character of a string\n",
    "\n",
    "s[0:2] # accessing the first 2 characters\n",
    "\n",
    "s[1:]  # remove the first character and print remaining characters\n",
    "\n",
    "s[:-2] # remove the last two character and print remaining characters\n",
    "\n",
    "s[1:-1] # remove the first and last characters\n",
    "\n",
    "s[len(s)//2] # to get the floor value using //\n",
    "\n",
    "s"
   ]
  },
  {
   "cell_type": "code",
   "execution_count": 20,
   "metadata": {},
   "outputs": [
    {
     "name": "stdout",
     "output_type": "stream",
     "text": [
      "3\n",
      "1 2 3\n",
      "['1', '2', '3']\n",
      "6\n"
     ]
    }
   ],
   "source": [
    "def fact(a):\n",
    "    fact=1\n",
    "    a=a.split()\n",
    "    print(a)\n",
    "    for i in range(0,len(a)):\n",
    "        fact=(fact*int(a[i]))%((10**9)+7)\n",
    "    print(fact)\n",
    "\n",
    "n=int(input())\n",
    "a=input()\n",
    "fact(a)"
   ]
  },
  {
   "cell_type": "code",
   "execution_count": null,
   "metadata": {},
   "outputs": [],
   "source": []
  }
 ],
 "metadata": {
  "kernelspec": {
   "display_name": "Python 3",
   "language": "python",
   "name": "python3"
  },
  "language_info": {
   "codemirror_mode": {
    "name": "ipython",
    "version": 3
   },
   "file_extension": ".py",
   "mimetype": "text/x-python",
   "name": "python",
   "nbconvert_exporter": "python",
   "pygments_lexer": "ipython3",
   "version": "3.7.3"
  }
 },
 "nbformat": 4,
 "nbformat_minor": 2
}
