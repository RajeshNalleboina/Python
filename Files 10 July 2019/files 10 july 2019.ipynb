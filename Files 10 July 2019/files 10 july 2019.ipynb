{
 "cells": [
  {
   "cell_type": "code",
   "execution_count": 3,
   "metadata": {},
   "outputs": [],
   "source": [
    "# Create a file write some data\n",
    "\n",
    "filepath='firstfile.txt'\n",
    "with open(filepath, 'w') as f:\n",
    "    f.write('Good Morning..! \\n')\n",
    "    f.write('This is my second line of my file')"
   ]
  },
  {
   "cell_type": "code",
   "execution_count": 8,
   "metadata": {},
   "outputs": [
    {
     "name": "stdout",
     "output_type": "stream",
     "text": [
      "Good Morning..! \n",
      "\n",
      "['This is my second line of my file\\n', 'sai : Hai, Rajesh. How are you\\n', \"Rajesh : Hai, sai. I'm fine thank you, and you\\n\"]\n"
     ]
    }
   ],
   "source": [
    "# read the data from file\n",
    "\n",
    "with open(filepath,'r') as f:\n",
    "    #s=f.read() # reading the file as like as file\n",
    "    d=f.readline() # read the first line\n",
    "    f=f.readlines() # read the data in the list format\n",
    "    #print(s)\n",
    "    print(d)\n",
    "    print(f)  "
   ]
  },
  {
   "cell_type": "code",
   "execution_count": 10,
   "metadata": {},
   "outputs": [
    {
     "ename": "FileNotFoundError",
     "evalue": "[Errno 2] No such file or directory: 'number.txt'",
     "output_type": "error",
     "traceback": [
      "\u001b[1;31m---------------------------------------------------------------------------\u001b[0m",
      "\u001b[1;31mFileNotFoundError\u001b[0m                         Traceback (most recent call last)",
      "\u001b[1;32m<ipython-input-10-84fe51bc8b3b>\u001b[0m in \u001b[0;36m<module>\u001b[1;34m\u001b[0m\n\u001b[0;32m      1\u001b[0m \u001b[0mnumber\u001b[0m\u001b[1;33m=\u001b[0m\u001b[1;34m'number.txt'\u001b[0m\u001b[1;33m\u001b[0m\u001b[1;33m\u001b[0m\u001b[0m\n\u001b[1;32m----> 2\u001b[1;33m \u001b[1;32mwith\u001b[0m  \u001b[0mopen\u001b[0m\u001b[1;33m(\u001b[0m\u001b[0mnumber\u001b[0m\u001b[1;33m,\u001b[0m\u001b[1;34m'r'\u001b[0m\u001b[1;33m)\u001b[0m \u001b[1;32mas\u001b[0m \u001b[0mf\u001b[0m\u001b[1;33m:\u001b[0m\u001b[1;33m\u001b[0m\u001b[1;33m\u001b[0m\u001b[0m\n\u001b[0m\u001b[0;32m      3\u001b[0m     \u001b[0ms\u001b[0m\u001b[1;33m=\u001b[0m\u001b[1;36m0\u001b[0m\u001b[1;33m\u001b[0m\u001b[1;33m\u001b[0m\u001b[0m\n\u001b[0;32m      4\u001b[0m     \u001b[0mf\u001b[0m\u001b[1;33m=\u001b[0m\u001b[1;36m0\u001b[0m\u001b[1;33m\u001b[0m\u001b[1;33m\u001b[0m\u001b[0m\n\u001b[0;32m      5\u001b[0m     \u001b[1;32mfor\u001b[0m \u001b[0mi\u001b[0m \u001b[1;32min\u001b[0m \u001b[0mf\u001b[0m\u001b[1;33m:\u001b[0m\u001b[1;33m\u001b[0m\u001b[1;33m\u001b[0m\u001b[0m\n",
      "\u001b[1;31mFileNotFoundError\u001b[0m: [Errno 2] No such file or directory: 'number.txt'"
     ]
    }
   ],
   "source": [
    "number='number.txt'\n",
    "with  open(number,'r') as f:\n",
    "    s=0\n",
    "    f=0\n",
    "    for i in f:\n",
    "        s+=int(i)\n",
    "        c+=1\n",
    "    print(s//c)\n",
    "    "
   ]
  },
  {
   "cell_type": "code",
   "execution_count": 12,
   "metadata": {},
   "outputs": [
    {
     "name": "stdout",
     "output_type": "stream",
     "text": [
      "4\n"
     ]
    }
   ],
   "source": [
    "# Line count\n",
    "with open(filepath,'r') as f:\n",
    "    linecount=0\n",
    "    for i in f:\n",
    "        linecount+=1\n",
    "    print(linecount)\n"
   ]
  },
  {
   "cell_type": "code",
   "execution_count": 15,
   "metadata": {},
   "outputs": [
    {
     "name": "stdout",
     "output_type": "stream",
     "text": [
      "28\n"
     ]
    }
   ],
   "source": [
    "#count the number of words in a file\n",
    "\n",
    "with open(filepath,'r') as f:\n",
    "    wordcount=0\n",
    "    for i in f:\n",
    "        l=i.split(' ')\n",
    "        wordcount+=len(l)\n",
    "    print(wordcount)"
   ]
  },
  {
   "cell_type": "code",
   "execution_count": 25,
   "metadata": {},
   "outputs": [
    {
     "name": "stdout",
     "output_type": "stream",
     "text": [
      "28\n"
     ]
    }
   ],
   "source": [
    "# count the number of words in a file without using loop\n",
    "\n",
    "with open(filepath,'r') as f:\n",
    "    s=' '.join(f).split(' ')\n",
    "print(len(s))\n",
    "    "
   ]
  },
  {
   "cell_type": "code",
   "execution_count": 46,
   "metadata": {},
   "outputs": [
    {
     "name": "stdout",
     "output_type": "stream",
     "text": [
      "['Good', 'Morning..!']\n",
      "['This', 'is', 'my', 'second', 'line', 'of', 'my', 'file']\n",
      "['sai', ':', 'Hai,', 'Rajesh.', 'How', 'are', 'you']\n",
      "['Rajesh', ':', 'Hai,', 'sai.', \"I'm\", 'fine', 'thank', 'you,', 'and', 'you']\n",
      "[]\n"
     ]
    }
   ],
   "source": [
    "#char count \n",
    "with open(filepath,'r') as f:\n",
    "    charcount=0\n",
    "    for i in f:\n",
    "        s=''.join(i).split()\n",
    "        charcount+=len(s)\n",
    "        print(s)\n"
   ]
  },
  {
   "cell_type": "markdown",
   "metadata": {},
   "source": [
    "## Char Count anotherway\n",
    "\n",
    "with open(filepath,'r') as f:\n",
    "    charcount=0\n",
    "    for i in f:\n",
    "        s=i.split()\n",
    "        for j in s:\n",
    "            charcount+=len(j)\n",
    "    print(charcount)\n"
   ]
  },
  {
   "cell_type": "code",
   "execution_count": 20,
   "metadata": {},
   "outputs": [
    {
     "name": "stdout",
     "output_type": "stream",
     "text": [
      "5\n",
      "120\n"
     ]
    }
   ],
   "source": [
    "a=int(input())\n",
    "fact=1\n",
    "for i in range(1,a+1):\n",
    "    fact=(fact*i)%(10**9+7)\n",
    "print(fact)\n",
    "            "
   ]
  },
  {
   "cell_type": "code",
   "execution_count": 7,
   "metadata": {},
   "outputs": [
    {
     "name": "stdout",
     "output_type": "stream",
     "text": [
      "1 100 5\n",
      "20\n"
     ]
    }
   ],
   "source": [
    "a=list(map(int,input().split()))\n",
    "l=a[0]\n",
    "r=a[1]\n",
    "k=a[2]\n",
    "count=0\n",
    "for i in range(l,r+1):\n",
    "    if i%k==0:\n",
    "        count+=1\n",
    "print(count)\n"
   ]
  },
  {
   "cell_type": "code",
   "execution_count": 2,
   "metadata": {},
   "outputs": [
    {
     "name": "stdout",
     "output_type": "stream",
     "text": [
      "3\n",
      "ramu\n",
      "mura\n",
      "YES\n",
      "asd\n",
      "dsa\n",
      "YES\n",
      "sa\n",
      "ds\n",
      "NO\n"
     ]
    }
   ],
   "source": [
    "a=int(input())\n",
    "for i in range(1,a+1):\n",
    "    b=input()\n",
    "    c=input()\n",
    "    d=sorted(' '.join(b).split())\n",
    "    e=sorted(' '.join(c).split())\n",
    "    if d==e:\n",
    "        print('YES')\n",
    "    else:\n",
    "        print(\"NO\")"
   ]
  },
  {
   "cell_type": "code",
   "execution_count": 5,
   "metadata": {},
   "outputs": [
    {
     "name": "stdout",
     "output_type": "stream",
     "text": [
      "2\n",
      "ds sd\n",
      "YES\n",
      "sa ds\n",
      "NO\n"
     ]
    }
   ],
   "source": [
    "a=int(input())\n",
    "for i in range(a):\n",
    "    s=list(input().split())\n",
    "    if sorted(s[0]) == sorted(s[1]):\n",
    "        print(\"YES\")\n",
    "    else:\n",
    "        print(\"NO\")"
   ]
  },
  {
   "cell_type": "code",
   "execution_count": 9,
   "metadata": {},
   "outputs": [
    {
     "name": "stdout",
     "output_type": "stream",
     "text": [
      "ads\n",
      "ADS\n"
     ]
    }
   ],
   "source": [
    "a=input()\n",
    "print(a.swapcase())"
   ]
  },
  {
   "cell_type": "code",
   "execution_count": 20,
   "metadata": {},
   "outputs": [
    {
     "name": "stdout",
     "output_type": "stream",
     "text": [
      "asdads\n",
      "NO\n",
      "sdadsa\n"
     ]
    }
   ],
   "source": [
    "s=input()\n",
    "s=(s.lower())\n",
    "a=s[::-1]  # reverse the string\n",
    "if s==a:\n",
    "    print('YES')\n",
    "else:\n",
    "    print('NO')\n",
    "print(a)    "
   ]
  },
  {
   "cell_type": "code",
   "execution_count": 13,
   "metadata": {},
   "outputs": [
    {
     "data": {
      "text/plain": [
       "77"
      ]
     },
     "execution_count": 13,
     "metadata": {},
     "output_type": "execute_result"
    }
   ],
   "source": [
    "## Pandas\n",
    "\n",
    "import pandas as p\n",
    "file='panda.csv'\n",
    "read=p.read_csv(file)\n",
    "max(read['marks'])\n"
   ]
  },
  {
   "cell_type": "code",
   "execution_count": 26,
   "metadata": {},
   "outputs": [
    {
     "data": {
      "text/plain": [
       "s1    45\n",
       "s2    25\n",
       "s3    56\n",
       "dtype: int64"
      ]
     },
     "execution_count": 26,
     "metadata": {},
     "output_type": "execute_result"
    }
   ],
   "source": [
    "internal={'s1':45,'s2':25,'s3':56}\n",
    "internal=p.Series(internal)\n",
    "internal\n"
   ]
  },
  {
   "cell_type": "code",
   "execution_count": 27,
   "metadata": {},
   "outputs": [
    {
     "data": {
      "text/plain": [
       "s1    34\n",
       "s2    55\n",
       "s3    76\n",
       "dtype: int64"
      ]
     },
     "execution_count": 27,
     "metadata": {},
     "output_type": "execute_result"
    }
   ],
   "source": [
    "external={'s1':34,'s2':55,'s3':76}\n",
    "external=p.Series(external)\n",
    "external"
   ]
  },
  {
   "cell_type": "code",
   "execution_count": null,
   "metadata": {},
   "outputs": [],
   "source": []
  }
 ],
 "metadata": {
  "kernelspec": {
   "display_name": "Python 3",
   "language": "python",
   "name": "python3"
  },
  "language_info": {
   "codemirror_mode": {
    "name": "ipython",
    "version": 3
   },
   "file_extension": ".py",
   "mimetype": "text/x-python",
   "name": "python",
   "nbconvert_exporter": "python",
   "pygments_lexer": "ipython3",
   "version": "3.7.3"
  }
 },
 "nbformat": 4,
 "nbformat_minor": 2
}
